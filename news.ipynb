{
 "cells": [
  {
   "cell_type": "code",
   "execution_count": 9,
   "id": "6009d09d",
   "metadata": {},
   "outputs": [
    {
     "name": "stdout",
     "output_type": "stream",
     "text": [
      "{'text': \"Wall St. Bears Claw Back Into the Black (Reuters) Reuters - Short-sellers, Wall Street's dwindling\\\\band of ultra-cynics, are seeing green again.\", 'label': 2}\n"
     ]
    }
   ],
   "source": [
    "from datasets import load_dataset\n",
    "\n",
    "dataset = load_dataset(\"ag_news\")\n",
    "print(dataset[\"train\"][0])"
   ]
  },
  {
   "cell_type": "code",
   "execution_count": 10,
   "id": "55379013",
   "metadata": {},
   "outputs": [],
   "source": [
    "def map_label_to_category(label):\n",
    "    # Original ag_news labels\n",
    "    # 0: World\n",
    "    # 1: Sports\n",
    "    # 2: Business\n",
    "    # 3: Sci/Tech\n",
    "    if label == 0:\n",
    "        return \"Politics\"       # World news → Politics / General\n",
    "    elif label == 1:\n",
    "        return \"Sports\"\n",
    "    elif label == 2:\n",
    "        return \"Business\"\n",
    "    elif label == 3:\n",
    "        return \"Health\"         # Sci/Tech → Health / Lifestyle (approximation)\n"
   ]
  },
  {
   "cell_type": "code",
   "execution_count": 11,
   "id": "fdc792b0",
   "metadata": {},
   "outputs": [
    {
     "name": "stderr",
     "output_type": "stream",
     "text": [
      "Map: 100%|██████████| 120000/120000 [00:12<00:00, 9394.89 examples/s] \n",
      "Map: 100%|██████████| 7600/7600 [00:00<00:00, 9755.81 examples/s] \n"
     ]
    }
   ],
   "source": [
    "def add_category_column(example):\n",
    "    example[\"category\"] = map_label_to_category(example[\"label\"])\n",
    "    return example\n",
    "\n",
    "dataset = dataset.map(add_category_column)\n"
   ]
  },
  {
   "cell_type": "code",
   "execution_count": 12,
   "id": "05bf1589",
   "metadata": {},
   "outputs": [
    {
     "name": "stdout",
     "output_type": "stream",
     "text": [
      "Counter({'Business': 30000, 'Health': 30000, 'Sports': 30000, 'Politics': 30000})\n"
     ]
    }
   ],
   "source": [
    "from collections import Counter\n",
    "\n",
    "categories = [x[\"category\"] for x in dataset[\"train\"]]\n",
    "print(Counter(categories))\n"
   ]
  },
  {
   "cell_type": "code",
   "execution_count": 13,
   "id": "a5883c59",
   "metadata": {},
   "outputs": [
    {
     "name": "stderr",
     "output_type": "stream",
     "text": [
      "Map: 100%|██████████| 120000/120000 [00:14<00:00, 8523.24 examples/s] \n",
      "Map: 100%|██████████| 7600/7600 [00:00<00:00, 9313.76 examples/s] \n"
     ]
    },
    {
     "name": "stdout",
     "output_type": "stream",
     "text": [
      "Counter({'Business': 30000, 'Health': 30000, 'Sports': 30000, 'Politics': 30000})\n",
      "✅ Saved processed dataset to nigerian_news_dataset.csv\n"
     ]
    }
   ],
   "source": [
    "from datasets import load_dataset\n",
    "from collections import Counter\n",
    "import pandas as pd\n",
    "\n",
    "# Step 1: Load dataset\n",
    "dataset = load_dataset(\"ag_news\")\n",
    "\n",
    "# Step 2: Map labels to Nigerian-like categories\n",
    "def map_label_to_category(label):\n",
    "    if label == 0:\n",
    "        return \"Politics\"   # World → Politics\n",
    "    elif label == 1:\n",
    "        return \"Sports\"\n",
    "    elif label == 2:\n",
    "        return \"Business\"\n",
    "    elif label == 3:\n",
    "        return \"Health\"     # Sci/Tech → Health (approximate)\n",
    "\n",
    "# Step 3: Add new category column\n",
    "def add_category_column(example):\n",
    "    example[\"category\"] = map_label_to_category(example[\"label\"])\n",
    "    return example\n",
    "\n",
    "dataset = dataset.map(add_category_column)\n",
    "\n",
    "# Step 4: Check category distribution\n",
    "categories = [x[\"category\"] for x in dataset[\"train\"]]\n",
    "print(Counter(categories))\n",
    "\n",
    "# Optional: Save to CSV for later ML work\n",
    "df = pd.DataFrame(dataset[\"train\"])\n",
    "df.to_csv(\"nigerian_news_dataset.csv\", index=False)\n",
    "print(\"✅ Saved processed dataset to nigerian_news_dataset.csv\")\n"
   ]
  },
  {
   "cell_type": "code",
   "execution_count": 14,
   "id": "2d7a43da",
   "metadata": {},
   "outputs": [
    {
     "name": "stdout",
     "output_type": "stream",
     "text": [
      "category\n",
      "Business    200\n",
      "Health      200\n",
      "Politics    200\n",
      "Sports      200\n",
      "Name: count, dtype: int64\n",
      "✅ Saved balanced dataset to nigerian_news_balanced.csv\n"
     ]
    }
   ],
   "source": [
    "# Balance dataset: 200 per category\n",
    "balanced_df = df.groupby(\"category\").apply(lambda x: x.sample(200, random_state=42)).reset_index(drop=True)\n",
    "\n",
    "print(balanced_df[\"category\"].value_counts())\n",
    "balanced_df.to_csv(\"nigerian_news_balanced.csv\", index=False)\n",
    "print(\"✅ Saved balanced dataset to nigerian_news_balanced.csv\")\n"
   ]
  },
  {
   "cell_type": "code",
   "execution_count": 15,
   "id": "31c85fa9",
   "metadata": {},
   "outputs": [
    {
     "name": "stdout",
     "output_type": "stream",
     "text": [
      "Train size: 640\n",
      "Test size: 160\n"
     ]
    }
   ],
   "source": [
    "from sklearn.model_selection import train_test_split\n",
    "\n",
    "train_df, test_df = train_test_split(balanced_df, test_size=0.2, random_state=42, stratify=balanced_df[\"category\"])\n",
    "\n",
    "print(\"Train size:\", len(train_df))\n",
    "print(\"Test size:\", len(test_df))\n"
   ]
  },
  {
   "cell_type": "code",
   "execution_count": 18,
   "id": "7ce25591",
   "metadata": {},
   "outputs": [
    {
     "name": "stdout",
     "output_type": "stream",
     "text": [
      "Accuracy: 0.825\n",
      "              precision    recall  f1-score   support\n",
      "\n",
      "    Business       0.74      0.70      0.72        40\n",
      "      Health       0.71      0.75      0.73        40\n",
      "    Politics       0.90      0.88      0.89        40\n",
      "      Sports       0.95      0.97      0.96        40\n",
      "\n",
      "    accuracy                           0.82       160\n",
      "   macro avg       0.82      0.83      0.82       160\n",
      "weighted avg       0.82      0.82      0.82       160\n",
      "\n"
     ]
    }
   ],
   "source": [
    "from sklearn.feature_extraction.text import TfidfVectorizer\n",
    "from sklearn.naive_bayes import MultinomialNB\n",
    "from sklearn.pipeline import Pipeline\n",
    "from sklearn.metrics import classification_report, accuracy_score\n",
    "\n",
    "from joblib import Memory\n",
    "\n",
    "# Create a memory cache folder\n",
    "memory = Memory(location=\"./cachedir\", verbose=0)\n",
    "\n",
    "# Build pipeline\n",
    "from sklearn.linear_model import LogisticRegression\n",
    "model = Pipeline([\n",
    "    (\"tfidf\", TfidfVectorizer(stop_words=\"english\")),\n",
    "    (\"clf\", LogisticRegression(max_iter=500, random_state=42))\n",
    "], memory=memory)\n",
    "\n",
    "\n",
    "\n",
    "# Train\n",
    "model.fit(train_df[\"text\"], train_df[\"category\"])\n",
    "\n",
    "# Test\n",
    "y_pred = model.predict(test_df[\"text\"])\n",
    "\n",
    "\n",
    "print(\"Accuracy:\", accuracy_score(test_df[\"category\"], y_pred))\n",
    "print(classification_report(test_df[\"category\"], y_pred))\n"
   ]
  },
  {
   "cell_type": "code",
   "execution_count": 27,
   "id": "dc673d0e",
   "metadata": {},
   "outputs": [
    {
     "data": {
      "text/plain": [
       "['news_classifier.pkl']"
      ]
     },
     "execution_count": 27,
     "metadata": {},
     "output_type": "execute_result"
    }
   ],
   "source": [
    "#from sklearn.feature_extraction.text import TfidfVectorizer\n",
    "#from sklearn.linear_model import LogisticRegression\n",
    "#from sklearn.pipeline import Pipeline\n",
    "import joblib\n",
    "\n",
    "news_pipeline = Pipeline([\n",
    "    (\"tfidf\", TfidfVectorizer(ngram_range=(1,2), stop_words=\"english\")),\n",
    "    (\"clf\", LogisticRegression(random_state=42, max_iter=1000))\n",
    "])\n",
    "\n",
    "news_pipeline.fit(train_df[\"text\"], train_df[\"category\"])\n",
    "\n",
    "joblib.dump(news_pipeline, \"news_classifier.pkl\")\n"
   ]
  },
  {
   "cell_type": "code",
   "execution_count": 21,
   "id": "f89298d5",
   "metadata": {},
   "outputs": [
    {
     "name": "stdout",
     "output_type": "stream",
     "text": [
      "Predicted category: Politics\n"
     ]
    }
   ],
   "source": [
    "new_article = \"\"\"\n",
    "Nigerian President addresses the nation on upcoming elections and political reforms.\n",
    "\"\"\"\n",
    "predicted_category = news_pipeline.predict([new_article])[0]\n",
    "print(\"Predicted category:\", predicted_category)"
   ]
  },
  {
   "cell_type": "code",
   "execution_count": 29,
   "id": "2b62c107",
   "metadata": {},
   "outputs": [
    {
     "name": "stdout",
     "output_type": "stream",
     "text": [
      "                                                text     label\n",
      "0  For over two decades, non-state actors have wr...  Politics\n",
      "1  The coalition-backed African Democratic Congre...  Politics\n",
      "2  I have been a prosecutor for a while now and I...    Health\n",
      "3  The News You Need, Delivered To You.\\n\\nSubscr...    Health\n",
      "4  \\n\\nAryna Sabalenka sealed back-to-back titles...    Sports\n",
      "5  Haruna Usman\\n\\nThe Global Affairs Canada Init...    Health\n",
      "6  Manchester United Women were left scrambling j...    Sports\n",
      "7  Kaduna State Governor Uba Sani has pledged to ...  Politics\n",
      "8  The Minister of State for Agriculture and Food...  Politics\n",
      "9     Discover more insights and updates on National  Politics\n",
      "✅ Saved classified_sample.csv\n"
     ]
    }
   ],
   "source": [
    "import pandas as pd\n",
    "\n",
    "# Load dataset\n",
    "df = pd.read_csv(\"nigerian_news_scrapedv2.csv\")\n",
    "\n",
    "# Take a random sample (5–20 rows, configurable)\n",
    "sample_df = df.sample(n=10, random_state=42)  # change n as needed\n",
    "\n",
    "# Pick the column with text (e.g., \"title\" or \"text\")\n",
    "X_new = sample_df[\"text\"].fillna(\"\").tolist()\n",
    "\n",
    "pipeline = joblib.load(\"news_classifier.pkl\")\n",
    "# Predict categories using your trained pipeline\n",
    "predictions = pipeline.predict(X_new)\n",
    "\n",
    "# Build results DataFrame\n",
    "results = pd.DataFrame({\n",
    "    \"text\": X_new,\n",
    "    \"label\": predictions\n",
    "})\n",
    "\n",
    "print(results)\n",
    "\n",
    "# Save to CSV\n",
    "results.to_csv(\"classified_sample.csv\", index=False)\n",
    "print(\"✅ Saved classified_sample.csv\")\n"
   ]
  }
 ],
 "metadata": {
  "kernelspec": {
   "display_name": "crisp11",
   "language": "python",
   "name": "python3"
  },
  "language_info": {
   "codemirror_mode": {
    "name": "ipython",
    "version": 3
   },
   "file_extension": ".py",
   "mimetype": "text/x-python",
   "name": "python",
   "nbconvert_exporter": "python",
   "pygments_lexer": "ipython3",
   "version": "3.11.4"
  }
 },
 "nbformat": 4,
 "nbformat_minor": 5
}
